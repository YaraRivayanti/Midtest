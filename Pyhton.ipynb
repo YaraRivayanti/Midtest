{
  "nbformat": 4,
  "nbformat_minor": 0,
  "metadata": {
    "colab": {
      "provenance": []
    },
    "kernelspec": {
      "name": "python3",
      "display_name": "Python 3"
    },
    "language_info": {
      "name": "python"
    }
  },
  "cells": [
    {
      "cell_type": "code",
      "execution_count": 1,
      "metadata": {
        "colab": {
          "base_uri": "https://localhost:8080/"
        },
        "id": "qCH_0S72j2lN",
        "outputId": "ae4992f6-9258-4c87-c36f-23ac94aa98ae"
      },
      "outputs": [
        {
          "output_type": "stream",
          "name": "stdout",
          "text": [
            "2,8,4,10\n"
          ]
        }
      ],
      "source": [
        "# nomor 1\n",
        "\n",
        "def add_str(input_str):\n",
        "    # Split the input string into a list of numbers\n",
        "    num_list = input_str.split(\",\")\n",
        "\n",
        "    # Initialize an empty list to store the updated numbers\n",
        "    new_lst = []\n",
        "\n",
        "    # Iterate through the numbers in the list\n",
        "    for num_str in num_list:\n",
        "        # Convert the number string to an integer, add 1, and convert it back to a string\n",
        "        num = int(num_str) + 1\n",
        "\n",
        "        # Remove leading zeros from the updated number\n",
        "        updated_num_str = str(num).lstrip('0')\n",
        "\n",
        "        # Append the updated number to the new list\n",
        "        new_lst.append(updated_num_str)\n",
        "\n",
        "    # Join the updated numbers with commas to create the result string\n",
        "    new_str = \",\".join(new_lst)\n",
        "\n",
        "    # If the resulting string is empty, set it to '0'\n",
        "    if not new_str:\n",
        "        new_str = '0'\n",
        "\n",
        "    return new_str\n",
        "\n",
        "# Test the function with the provided input\n",
        "input_str = '1,7,3,9'\n",
        "output_str = add_str(input_str)\n",
        "print(output_str)"
      ]
    },
    {
      "cell_type": "code",
      "source": [
        "# nomor 2\n",
        "\n",
        "def decode(str1, str2):\n",
        "    # Create a list of letters from the first string\n",
        "    letters = list(str1)\n",
        "    # Sort the letters in the first string alphabetically\n",
        "    letters.sort()\n",
        "    # Create a list of digits from the second string\n",
        "    digits = list(str2)\n",
        "    # Create a dictionary to associate each letter with a digit\n",
        "    letter_dict = {}\n",
        "    for i in range(len(digits)):\n",
        "        letter_dict[letters[i]] = digits[i]\n",
        "    # Use the dictionary to reorder the letters in the first string\n",
        "    new_letters = [letter_dict[letter] for letter in str1]\n",
        "    # Join the reordered letters into a string\n",
        "    new_str = \"\".join(new_letters)\n",
        "    return new_str\n",
        "\n",
        "# Test the function with the provided input\n",
        "str1 = 'abc'\n",
        "str2 = '213'\n",
        "result = decode(str1, str2)\n",
        "\n",
        "# Print the result\n",
        "print(result)"
      ],
      "metadata": {
        "colab": {
          "base_uri": "https://localhost:8080/"
        },
        "id": "KMmzirD7kAfs",
        "outputId": "f0e0f4f5-34fb-4d2d-dc36-7ccc80409842"
      },
      "execution_count": 2,
      "outputs": [
        {
          "output_type": "stream",
          "name": "stdout",
          "text": [
            "213\n"
          ]
        }
      ]
    }
  ]
}